{
  "nbformat": 4,
  "nbformat_minor": 0,
  "metadata": {
    "colab": {
      "provenance": [],
      "toc_visible": true,
      "gpuType": "T4",
      "authorship_tag": "ABX9TyMZr8A5Aeqmf2Drupd6Pt3P",
      "include_colab_link": true
    },
    "kernelspec": {
      "name": "python3",
      "display_name": "Python 3"
    },
    "language_info": {
      "name": "python"
    },
    "accelerator": "GPU"
  },
  "cells": [
    {
      "cell_type": "markdown",
      "metadata": {
        "id": "view-in-github",
        "colab_type": "text"
      },
      "source": [
        "<a href=\"https://colab.research.google.com/github/Lineker98/generative-AI/blob/main/HuggingFace%20demo.ipynb\" target=\"_parent\"><img src=\"https://colab.research.google.com/assets/colab-badge.svg\" alt=\"Open In Colab\"/></a>"
      ]
    },
    {
      "cell_type": "code",
      "source": [
        "from transformers import pipeline"
      ],
      "metadata": {
        "id": "Eb-lRo6oUacn"
      },
      "execution_count": 1,
      "outputs": []
    },
    {
      "cell_type": "markdown",
      "source": [
        "## Text generation"
      ],
      "metadata": {
        "id": "EzE8SNaEUXMe"
      }
    },
    {
      "cell_type": "code",
      "source": [
        "text_generator = pipeline(\"text-generation\", model='distilbert/distilgpt2')\n",
        "generated_text = text_generator(\"Today is a rainy day in London\",\n",
        "                                truncation=True,\n",
        "                                num_return_sequences=2)"
      ],
      "metadata": {
        "id": "kS_2jESQg3hi",
        "colab": {
          "base_uri": "https://localhost:8080/"
        },
        "outputId": "d03b754d-c27b-4074-90ca-621d57dac5a0"
      },
      "execution_count": 14,
      "outputs": [
        {
          "output_type": "stream",
          "name": "stderr",
          "text": [
            "Device set to use cuda:0\n",
            "Setting `pad_token_id` to `eos_token_id`:50256 for open-end generation.\n"
          ]
        }
      ]
    },
    {
      "cell_type": "code",
      "source": [
        "print(generated_text[0]['generated_text'])"
      ],
      "metadata": {
        "id": "LvC9MVDKU3D2",
        "outputId": "e228e8d7-5f34-4a42-b69e-9aa393b1bd88",
        "colab": {
          "base_uri": "https://localhost:8080/"
        }
      },
      "execution_count": 15,
      "outputs": [
        {
          "output_type": "stream",
          "name": "stdout",
          "text": [
            "Today is a rainy day in London, and the city's winter weather has been very dry.\n",
            "\n",
            "\n",
            "\n",
            "\n",
            "But since the first storm of April, there have been several days of rain in the city on the North Tower Bridge.\n",
            "This morning, the National Weather Service and the Met Office were called to the scene and made a report about the situation.\n",
            "There have been no reports of any damage.\n",
            "The National Weather Service said it had been working to reduce the rain by up to two inches per day.\n",
            "The National Weather Service said they were not aware of any damage to the bridge and urged commuters to stay away from the bridge.\n",
            "In a statement the National Weather Service said: \"Although the National Weather Service is working to reduce the rain, we are working with the National Weather Service to ensure that all emergency services are in full contact with the National Weather Service on their website to identify the exact cause of the storm.\"\n",
            "An emergency response will be launched within 30 days.\n",
            "It is understood that people will be able to have their water restored after the storm.\n"
          ]
        }
      ]
    },
    {
      "cell_type": "code",
      "source": [
        "print(generated_text[1]['generated_text'])"
      ],
      "metadata": {
        "id": "csKfC_mNVi-P",
        "outputId": "fd353776-4b4a-4896-ed68-13e3f9c69d75",
        "colab": {
          "base_uri": "https://localhost:8080/"
        }
      },
      "execution_count": 16,
      "outputs": [
        {
          "output_type": "stream",
          "name": "stdout",
          "text": [
            "Today is a rainy day in London, and it's something that we all have to take seriously.\n",
            "\n",
            "\n",
            "\n",
            "The recent financial meltdown, a series of financial crises that have already cost the economy trillions of pounds, left millions of our jobs and raised the cost of public services to almost 500 million people.\n",
            "They've given us more money than any other one of our most important public services in recent history, as we've seen during the financial crisis.\n",
            "In the last seven years, the cost of public services has declined by about 50%.\n",
            "The crisis has also left thousands of jobless and unemployed.\n",
            "When we talk about the financial crisis, there's a lot to be done.\n",
            "The Government has been saying that there's a massive budget deficit in the budget, but that's not entirely accurate.\n",
            "There's a lot to be done. There's a lot to be done, but it's not fully done.\n",
            "We're going to go to a special conference in London on 24 July - we're going to have to talk about the budget deficit.\n",
            "In fact, one of our most important public service functions is to deliver on what we've been promised.\n",
            "We've been very clear about this.\n",
            "In fact, the budget deficit has jumped to more than $2 trillion over\n"
          ]
        }
      ]
    },
    {
      "cell_type": "markdown",
      "source": [
        "# Question Answering"
      ],
      "metadata": {
        "id": "cpzmo2OPVgxA"
      }
    },
    {
      "cell_type": "code",
      "source": [
        "qa_model= pipeline(\"question-answering\")\n",
        "question = 'What is my job?'\n",
        "context = 'I build machine learning models and perform statistic analysis'\n",
        "\n",
        "qa_model(question=question, context=context)"
      ],
      "metadata": {
        "id": "FNzl0os_U8Ay",
        "outputId": "5f1082a2-5238-4716-f3a5-55ce67514a22",
        "colab": {
          "base_uri": "https://localhost:8080/"
        }
      },
      "execution_count": 19,
      "outputs": [
        {
          "output_type": "stream",
          "name": "stderr",
          "text": [
            "No model was supplied, defaulted to distilbert/distilbert-base-cased-distilled-squad and revision 564e9b5 (https://huggingface.co/distilbert/distilbert-base-cased-distilled-squad).\n",
            "Using a pipeline without specifying a model name and revision in production is not recommended.\n",
            "Device set to use cuda:0\n"
          ]
        },
        {
          "output_type": "execute_result",
          "data": {
            "text/plain": [
              "{'score': 0.2939864695072174,\n",
              " 'start': 2,\n",
              " 'end': 62,\n",
              " 'answer': 'build machine learning models and perform statistic analysis'}"
            ]
          },
          "metadata": {},
          "execution_count": 19
        }
      ]
    },
    {
      "cell_type": "code",
      "source": [],
      "metadata": {
        "id": "h2FipcdsV-sI"
      },
      "execution_count": null,
      "outputs": []
    }
  ]
}